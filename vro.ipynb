{
 "cells": [
  {
   "cell_type": "markdown",
   "id": "215af5e1",
   "metadata": {},
   "source": [
    "## Import Libraries"
   ]
  },
  {
   "cell_type": "code",
   "execution_count": 114,
   "id": "2cc4095b",
   "metadata": {},
   "outputs": [],
   "source": [
    "import copy\n",
    "import time\n",
    "import numpy as np\n",
    "import matplotlib\n",
    "import matplotlib.pyplot as plt\n",
    "import seaborn as sns; sns.set()\n",
    "from sklearn.datasets import make_blobs\n",
    "import random as rand\n",
    "from scipy.spatial import distance\n",
    "from deap import base, creator, tools\n",
    "\n",
    "np.random.seed(3)\n",
    "\n",
    "%matplotlib inline"
   ]
  },
  {
   "cell_type": "markdown",
   "id": "4e920650",
   "metadata": {},
   "source": [
    "## Generate Data"
   ]
  },
  {
   "cell_type": "markdown",
   "id": "cb76beb8",
   "metadata": {},
   "source": [
    "### Generate Cities Layout"
   ]
  },
  {
   "cell_type": "code",
   "execution_count": 115,
   "id": "9883459a",
   "metadata": {},
   "outputs": [],
   "source": [
    "num_cities = 21\n",
    "num_clients = num_cities - 1\n",
    "num_vehicles = 4\n",
    "vehicle_payload = 10"
   ]
  },
  {
   "cell_type": "code",
   "execution_count": 116,
   "id": "05994f68",
   "metadata": {},
   "outputs": [],
   "source": [
    "# Define the center box within which cities will be generated\n",
    "center_box = (100, 200)\n",
    "\n",
    "# Generate random city coordinates using make_blobs function\n",
    "cities_coord, _ = make_blobs(n_samples = num_cities,\n",
    "                             centers = 2,\n",
    "                             cluster_std = 20,\n",
    "                             center_box = center_box,\n",
    "                             random_state = 2)\n",
    "\n",
    "# Create a list of all city names, represented by integers\n",
    "all_names = [i for i in range(num_cities)]\n",
    "\n",
    "# Create a list of client city names (excluding the first city)\n",
    "client_names = [i for i in range(1, num_cities)]\n",
    "\n",
    "# Create a dictionary mapping all city names to their respective coordinates\n",
    "all_coord_dict = {name: coord for name, coord in zip(all_names, cities_coord)}\n",
    "\n",
    "# Create a dictionary mapping client city names to their respective coordinates (excluding the first city)\n",
    "client_coord_dict = {name: coord for name, coord in zip(client_names, cities_coord[1:])}"
   ]
  },
  {
   "cell_type": "markdown",
   "id": "43a62ce4",
   "metadata": {},
   "source": [
    "### Plot Citites Layout"
   ]
  },
  {
   "cell_type": "code",
   "execution_count": 117,
   "id": "17f37f92",
   "metadata": {},
   "outputs": [],
   "source": [
    "# Define the size of the plot\n",
    "plot_size = 15\n",
    "\n",
    "# Define the width and height of the plot\n",
    "plot_width = 16\n",
    "plot_height = 8\n",
    "\n",
    "# Define a dictionary 'params' containing various plot customization parameters\n",
    "params = {\n",
    "    'legend.fontsize': 'large',                   # Set the legend font size to 'large'\n",
    "    'figure.figsize': (plot_width, plot_height),  # Set the figure size using 'plot_width' and 'plot_height'\n",
    "    'axes.labelsize': plot_size,                  # Set the label font size for axes\n",
    "    'axes.titlesize': plot_size,                  # Set the title font size for axes\n",
    "    'xtick.labelsize': plot_size * 0.75,          # Set the x-axis tick label font size\n",
    "    'ytick.labelsize': plot_size * 0.75,          # Set the y-axis tick label font size\n",
    "    'axes.titlepad': 25                           # Set padding for the title of the axes\n",
    "}\n",
    "\n",
    "# Update the Matplotlib parameters using the 'params' dictionary\n",
    "plt.rcParams.update(params)"
   ]
  },
  {
   "cell_type": "code",
   "execution_count": 118,
   "id": "59a6cb1a",
   "metadata": {},
   "outputs": [
    {
     "name": "stderr",
     "output_type": "stream",
     "text": [
      "C:\\Users\\bianc\\AppData\\Local\\Temp\\ipykernel_15584\\3374254311.py:1: UserWarning: No data for colormapping provided via 'c'. Parameters 'cmap' will be ignored\n",
      "  plt.scatter(cities_coord[1:, 0], cities_coord[1:, 1], s = plot_size * 2, cmap='viridis');\n",
      "C:\\Users\\bianc\\AppData\\Local\\Temp\\ipykernel_15584\\3374254311.py:2: UserWarning: No data for colormapping provided via 'c'. Parameters 'cmap' will be ignored\n",
      "  plt.scatter(cities_coord[0, 0], cities_coord[0, 1], s = plot_size * 4, cmap='viridis');\n"
     ]
    },
    {
     "data": {
      "image/png": "[encoded data removed]",
      "text/plain": [
       "<Figure size 1600x800 with 1 Axes>"
      ]
     },
     "metadata": {},
     "output_type": "display_data"
    }
   ],
   "source": [
    "plt.scatter(cities_coord[1:, 0], cities_coord[1:, 1], s = plot_size * 2, cmap='viridis');\n",
    "plt.scatter(cities_coord[0, 0], cities_coord[0, 1], s = plot_size * 4, cmap='viridis');"
   ]
  },
  {
   "cell_type": "markdown",
   "id": "2b5845ea",
   "metadata": {},
   "source": [
    "### Compute Distance Between Cities"
   ]
  },
  {
   "cell_type": "code",
   "execution_count": 119,
   "id": "638442ef",
   "metadata": {},
   "outputs": [],
   "source": [
    "dist_matrix = distance.cdist(cities_coord, cities_coord, 'euclidean')"
   ]
  },
  {
   "cell_type": "markdown",
   "id": "81c67817",
   "metadata": {},
   "source": [
    "---"
   ]
  },
  {
   "cell_type": "markdown",
   "id": "32d5cad1",
   "metadata": {},
   "source": [
    "## Define Useful Functions"
   ]
  },
  {
   "cell_type": "markdown",
   "id": "ae3387b3",
   "metadata": {},
   "source": [
    "### Chromosome Creation Function"
   ]
  },
  {
   "cell_type": "code",
   "execution_count": 120,
   "id": "26f9d7eb",
   "metadata": {},
   "outputs": [],
   "source": [
    "def chromo_create(_cities_names):\n",
    "    \n",
    "    # Create a deep copy of the input list '_cities_names'\n",
    "    schedule = copy.deepcopy(_cities_names)\n",
    "    \n",
    "    # Generate a list of vehicle assignments randomly using integers\n",
    "    vehicle = list(np.random.randint(num_vehicles, size=(len(schedule))))\n",
    "    \n",
    "    # Shuffle the 'schedule' list to randomize the order of visiting cities\n",
    "    np.random.shuffle(schedule)\n",
    "    \n",
    "    # Combine 'schedule' and 'vehicle' into a chromosome\n",
    "    chromo = [schedule, vehicle]\n",
    "    \n",
    "    return chromo"
   ]
  },
  {
   "cell_type": "markdown",
   "id": "b057e29a",
   "metadata": {},
   "source": [
    "### Chromosome Evaluation Functions"
   ]
  },
  {
   "cell_type": "code",
   "execution_count": 121,
   "id": "874b17b5",
   "metadata": {},
   "outputs": [],
   "source": [
    "def chromo_eval(_dist_matrix, _chromo):\n",
    "    \n",
    "    # Initialize a list 'route_set' to represent routes for each vehicle\n",
    "    route_set = [[] for _ in range(num_vehicles)]\n",
    "    \n",
    "    # Assign cities to their respective routes based on the chromosome\n",
    "    for s, v in zip(_chromo[0], _chromo[1]):\n",
    "        route_set[v].append(s)\n",
    "        \n",
    "    # Initialize the total distance 'dist' to 0\n",
    "    dist = 0\n",
    "    \n",
    "    # Calculate the total distance for each route and sum them up\n",
    "    for route in route_set:\n",
    "        dist += calc_route_cost(_dist_matrix, route)\n",
    "        \n",
    "    return dist,"
   ]
  },
  {
   "cell_type": "code",
   "execution_count": 122,
   "id": "d9768469",
   "metadata": {},
   "outputs": [],
   "source": [
    "def get_route(_chromo):\n",
    "    \n",
    "    # Initialize a list 'route_set' to represent routes for each vehicle\n",
    "    route_set = [[] for _ in range(num_vehicles)]\n",
    "    \n",
    "    # Assign cities to their respective routes based on the chromosome\n",
    "    for s, v in zip(_chromo[0], _chromo[1]):\n",
    "        route_set[v].append(s)\n",
    "        \n",
    "    return route_set"
   ]
  },
  {
   "cell_type": "code",
   "execution_count": 123,
   "id": "84ef1e15",
   "metadata": {},
   "outputs": [],
   "source": [
    "def calc_route_cost(_dist_matrix, _route):\n",
    "    \n",
    "    # If the route is empty, the cost is 0\n",
    "    if not _route:\n",
    "        return 0\n",
    "    \n",
    "    # Initialize the distance 'dist' with the cost of returning to the starting city\n",
    "    dist = _dist_matrix[_route[-1], 0] + _dist_matrix[0, _route[0]]\n",
    "    \n",
    "    # Calculate the distance for the rest of the route and add it to 'dist'\n",
    "    for p in range(len(_route) - 1):\n",
    "        _i = _route[p]\n",
    "        _j = _route[p + 1]\n",
    "        dist += _dist_matrix[_i][_j]\n",
    "        \n",
    "    return dist"
   ]
  },
  {
   "cell_type": "markdown",
   "id": "5b2e9f3a",
   "metadata": {},
   "source": [
    "### Crossover Functions"
   ]
  },
  {
   "cell_type": "code",
   "execution_count": 124,
   "id": "e03f0fe7",
   "metadata": {},
   "outputs": [],
   "source": [
    "def crossover(_chromo1, _chromo2):\n",
    "    \n",
    "    # Get the cut positions for chromosome 1 and chromosome 2\n",
    "    cuts = get_chromo_cut()\n",
    "    \n",
    "    # Perform partial crossover on the genes of chromosome 1 and chromosome 2\n",
    "    partial_crossover(_chromo1[0], _chromo2[0], cuts)\n",
    "    \n",
    "    # Get additional cut positions for chromosome 1 and chromosome 2\n",
    "    cuts1 = get_chromo_cut()\n",
    "    cuts2 = get_chromo_cut(cuts1[2])\n",
    "    \n",
    "    # Swap genes between chromosome 1 and chromosome 2\n",
    "    swap_genes(_chromo1[1], _chromo2[1], cuts1, cuts2)"
   ]
  },
  {
   "cell_type": "code",
   "execution_count": 125,
   "id": "9fda14af",
   "metadata": {},
   "outputs": [],
   "source": [
    "def partial_crossover(_chromo1, _chromo2, cuts):\n",
    "    \n",
    "    size = len(_chromo1)\n",
    "    p1, p2 = [0] * size, [0] * size\n",
    "    \n",
    "    # Create position dictionaries for genes in chromosome 1 and chromosome 2\n",
    "    for i in range(size):\n",
    "        p1[_chromo1[i] - 1] = i\n",
    "        p2[_chromo2[i] - 1] = i\n",
    "        \n",
    "    # Perform partial crossover between the cut points\n",
    "    for i in range(cuts[0], cuts[1]):\n",
    "\n",
    "        temp1 = _chromo1[i] - 1\n",
    "        temp2 = _chromo2[i] - 1\n",
    "\n",
    "        _chromo1[i], _chromo1[p1[temp2]] = temp2 + 1, temp1 + 1\n",
    "        _chromo2[i], _chromo2[p2[temp1]] = temp1 + 1, temp2 + 1\n",
    "\n",
    "        p1[temp1], p1[temp2] = p1[temp2], p1[temp1]\n",
    "        p2[temp1], p2[temp2] = p2[temp2], p2[temp1]"
   ]
  },
  {
   "cell_type": "code",
   "execution_count": 126,
   "id": "5734484c",
   "metadata": {},
   "outputs": [],
   "source": [
    "def get_chromo_cut(cut_range=None, mutation=False):\n",
    "\n",
    "    # Define the range for generating cut positions based on whether it's a mutation\n",
    "    if mutation:\n",
    "        randrange = num_clients\n",
    "    else:\n",
    "        randrange = num_clients + 1\n",
    "\n",
    "    # Generate random cut positions within the specified range\n",
    "    if cut_range is None:\n",
    "        cut1 = rand.randrange(randrange)\n",
    "        cut2 = rand.randrange(randrange)\n",
    "        if cut1 > cut2:\n",
    "            tmp = cut2\n",
    "            cut2 = cut1\n",
    "            cut1 = tmp\n",
    "        cut_range = cut2 - cut1\n",
    "    else:\n",
    "        cut1 = rand.randrange(num_clients + 1 - cut_range)\n",
    "        cut2 = cut1 + cut_range\n",
    "    \n",
    "    return cut1, cut2, cut_range"
   ]
  },
  {
   "cell_type": "code",
   "execution_count": 127,
   "id": "e5ee48e7",
   "metadata": {},
   "outputs": [],
   "source": [
    "def swap_genes(chrom1, chrom2, cuts1, cuts2):\n",
    "    tmp = chrom1[cuts1[0]:cuts1[1]]\n",
    "    chrom1[cuts1[0]:cuts1[1]] = chrom2[cuts2[0]:cuts2[1]]\n",
    "    chrom2[cuts2[0]:cuts2[1]] = tmp"
   ]
  },
  {
   "cell_type": "markdown",
   "id": "93e3b9b7",
   "metadata": {},
   "source": [
    "### Mutation Functions"
   ]
  },
  {
   "cell_type": "code",
   "execution_count": 128,
   "id": "c1140b6a",
   "metadata": {},
   "outputs": [],
   "source": [
    "def mutation(_chromo):\n",
    "    # Randomly choose between swap_gene and shuffle_gene mutations\n",
    "    if np.random.rand() < 0.5:\n",
    "        swap_gene(_chromo)\n",
    "    else:\n",
    "        shuffle_gene(_chromo)"
   ]
  },
  {
   "cell_type": "code",
   "execution_count": 129,
   "id": "49cd2cab",
   "metadata": {},
   "outputs": [],
   "source": [
    "def swap_gene(_chromo):\n",
    "    # Get cut positions for the mutation operation\n",
    "    cuts = get_chromo_cut(mutation=True)\n",
    "\n",
    "    # Randomly choose whether to swap genes within the schedule or the vehicle assignment\n",
    "    if np.random.rand() < 0.5:\n",
    "        tmp = _chromo[0][cuts[0]]\n",
    "        _chromo[0][cuts[0]] = _chromo[0][cuts[1]]\n",
    "        _chromo[0][cuts[1]] = tmp\n",
    "    else:\n",
    "        tmp = _chromo[1][cuts[0]]\n",
    "        _chromo[1][cuts[0]] = _chromo[1][cuts[1]]\n",
    "        _chromo[1][cuts[1]] = tmp      "
   ]
  },
  {
   "cell_type": "code",
   "execution_count": 130,
   "id": "f836cb4a",
   "metadata": {},
   "outputs": [],
   "source": [
    "def shuffle_gene(_chromo):\n",
    "    # Get cut positions for the mutation operation\n",
    "    cuts = get_chromo_cut(mutation=True)\n",
    "\n",
    "    # Randomly choose whether to shuffle genes within the schedule or the vehicle assignment\n",
    "    if np.random.rand() < 0.5:\n",
    "        tmp = _chromo[0][cuts[0]:cuts[1]]\n",
    "        np.random.shuffle(tmp)\n",
    "        _chromo[0][cuts[0]:cuts[1]] = tmp\n",
    "    else:\n",
    "        tmp = _chromo[1][cuts[0]:cuts[1]]\n",
    "        np.random.shuffle(tmp)\n",
    "        _chromo[1][cuts[0]:cuts[1]] = tmp"
   ]
  },
  {
   "cell_type": "markdown",
   "id": "23e2d507",
   "metadata": {},
   "source": [
    "### Feasability"
   ]
  },
  {
   "cell_type": "code",
   "execution_count": 131,
   "id": "c874c6d5",
   "metadata": {},
   "outputs": [],
   "source": [
    "def feasibility(_chromo):\n",
    "    # Calculate the excess payload for each vehicle by counting the number of assignments\n",
    "    excess_payload = [vehicle_payload - _chromo[1].count(i) for i in range(num_vehicles)]\n",
    "    \n",
    "    # Create a list '_vehicle_id' to represent the IDs of vehicles\n",
    "    _vehicle_id = [i for i in range(num_vehicles)]\n",
    "\n",
    "    # Continue until there is no excess payload for any vehicle\n",
    "    while any(_p < 0 for _p in excess_payload):\n",
    "        # Find the first vehicle with excess payload (negative payload)\n",
    "        v_id = next(i for i, _p in enumerate(excess_payload) if _p < 0)\n",
    "        \n",
    "        # Find available vehicles that can accept excess cargo\n",
    "        available_vehicles = [i for i, e in enumerate(excess_payload) if e > 0]\n",
    "        \n",
    "        # If no available vehicles can accept excess cargo, raise an exception\n",
    "        if len(available_vehicles) == 0:\n",
    "            raise Exception('INFEASIBLE SOLUTION: No available vehicle to accept excess cargo. Increase the number of vehicles or the vehicle payload')\n",
    "        \n",
    "        # Choose an index from the chromosome where the vehicle assignment needs to be changed\n",
    "        idx = [i for i, x in enumerate(_chromo[1]) if x == v_id]\n",
    "        \n",
    "        # Choose a vehicle to move the cargo to\n",
    "        to_vehicle = rand.choice(available_vehicles)\n",
    "        \n",
    "        # Choose an index from the selected vehicle to move the cargo\n",
    "        idx_to_move = rand.choice(idx)\n",
    "        \n",
    "        # Update the chromosome to move cargo from 'v_id' to 'to_vehicle'\n",
    "        _chromo[1][idx_to_move] = to_vehicle\n",
    "        \n",
    "        # Update the excess payload for both vehicles\n",
    "        excess_payload[v_id] += 1\n",
    "        excess_payload[to_vehicle] -= 1"
   ]
  },
  {
   "cell_type": "markdown",
   "id": "d963a3bb",
   "metadata": {},
   "source": [
    "---"
   ]
  },
  {
   "cell_type": "markdown",
   "id": "d75a7213",
   "metadata": {},
   "source": [
    "## Solve VRO w/ Genetic Algorithms (DEAP)"
   ]
  },
  {
   "cell_type": "markdown",
   "id": "df8bbc16",
   "metadata": {},
   "source": [
    "### Setup Genetic Algorithm Parameters"
   ]
  },
  {
   "cell_type": "code",
   "execution_count": 132,
   "id": "85520a44",
   "metadata": {},
   "outputs": [],
   "source": [
    "# Create a toolbox 'tb' for defining genetic algorithm components\n",
    "tb = base.Toolbox()\n",
    "\n",
    "# Define a fitness function class 'Fitness_Func' with a single objective (-1.0 for minimization)\n",
    "creator.create('Fitness_Func', base.Fitness, weights=(-1.0,))\n",
    "\n",
    "# Define an individual class 'Individual' as a list with the 'Fitness_Func' assigned as its fitness attribute\n",
    "creator.create('Individual', list, fitness=creator.Fitness_Func)"
   ]
  },
  {
   "cell_type": "code",
   "execution_count": 133,
   "id": "e208735c",
   "metadata": {},
   "outputs": [],
   "source": [
    "num_population = 200\n",
    "num_generations = 1000\n",
    "prob_crossover = .4\n",
    "prob_mutation = .6"
   ]
  },
  {
   "cell_type": "code",
   "execution_count": 134,
   "id": "fa6524fa",
   "metadata": {},
   "outputs": [],
   "source": [
    "# Register 'indexes' function, which creates a chromosome, with the client names\n",
    "tb.register('indexes', chromo_create, client_names)\n",
    "\n",
    "# Register 'individual' function to initialize individuals using 'initIterate' with 'creator.Individual' and 'tb.indexes'\n",
    "tb.register('individual', tools.initIterate, creator.Individual, tb.indexes)\n",
    "\n",
    "# Register 'population' function to initialize a population using 'initRepeat' with 'list' and 'tb.individual'\n",
    "tb.register('population', tools.initRepeat, list, tb.individual)\n",
    "\n",
    "# Register 'evaluate' function to evaluate individuals using the 'chromo_eval' function and 'dist_matrix'\n",
    "tb.register('evaluate', chromo_eval, dist_matrix)\n",
    "\n",
    "# Register 'select' function for tournament selection using 'selTournament'\n",
    "tb.register('select', tools.selTournament)\n",
    "\n",
    "# Register 'mate' function for crossover operation\n",
    "tb.register('mate', crossover)\n",
    "\n",
    "# Register 'mutate' function for mutation operation\n",
    "tb.register('mutate', mutation)\n",
    "\n",
    "# Register 'feasibility' function for checking the feasibility of individuals\n",
    "tb.register('feasibility', feasibility)"
   ]
  },
  {
   "cell_type": "markdown",
   "id": "50144d98",
   "metadata": {},
   "source": [
    "### Create Initial Population"
   ]
  },
  {
   "cell_type": "code",
   "execution_count": 135,
   "id": "0a661c1f",
   "metadata": {},
   "outputs": [],
   "source": [
    "population = tb.population(n=num_population)"
   ]
  },
  {
   "cell_type": "markdown",
   "id": "6cfcdc5a",
   "metadata": {},
   "source": [
    "### Calculate Fitness of All Chromosomoes in the Population"
   ]
  },
  {
   "cell_type": "code",
   "execution_count": 136,
   "id": "b0f7f2d8",
   "metadata": {},
   "outputs": [],
   "source": [
    "# Calculate the fitness values for the entire population using the 'evaluate' function registered in the toolbox\n",
    "fitness_set = list(tb.map(tb.evaluate, population))\n",
    "\n",
    "# Assign the calculated fitness values to the individuals in the population\n",
    "for ind, fit in zip(population, fitness_set):\n",
    "    ind.fitness.values = fit"
   ]
  },
  {
   "cell_type": "markdown",
   "id": "661b7bd7",
   "metadata": {},
   "source": [
    "### Selection, Crossover and Mutation"
   ]
  },
  {
   "cell_type": "code",
   "execution_count": 137,
   "id": "a7770796",
   "metadata": {},
   "outputs": [
    {
     "name": "stdout",
     "output_type": "stream",
     "text": [
      "Generation:    0 | Fitness: inf\n",
      "Generation:   50 | Fitness: 652.46\n",
      "Generation:  100 | Fitness: 566.87\n",
      "Generation:  150 | Fitness: 549.02\n",
      "Generation:  200 | Fitness: 536.10\n",
      "Generation:  250 | Fitness: 536.10\n",
      "Generation:  300 | Fitness: 536.10\n",
      "Generation:  350 | Fitness: 506.03\n",
      "Generation:  400 | Fitness: 501.78\n",
      "Generation:  450 | Fitness: 501.78\n",
      "Generation:  500 | Fitness: 490.45\n",
      "Generation:  550 | Fitness: 485.60\n",
      "Generation:  600 | Fitness: 470.28\n",
      "Generation:  650 | Fitness: 470.19\n",
      "Generation:  700 | Fitness: 470.19\n",
      "Generation:  750 | Fitness: 470.19\n",
      "Generation:  800 | Fitness: 467.23\n",
      "Generation:  850 | Fitness: 463.72\n",
      "Generation:  900 | Fitness: 463.72\n",
      "Generation:  950 | Fitness: 463.72\n"
     ]
    }
   ],
   "source": [
    "# Initialize lists to store the best fitness and solutions over generations\n",
    "best_fit_list = [] # List to store the best fitness values\n",
    "best_sol_list = [] # List to store the best solutions (individuals)\n",
    "\n",
    "# Initialize the best fitness with positive infinity to ensure any initial solution is better\n",
    "best_fit = np.Inf\n",
    "\n",
    "# Start measuring time\n",
    "start = time.time()\n",
    "\n",
    "for gen in range(0, num_generations):\n",
    "    \n",
    "    # Print the generation number and best fitness every 50 generations\n",
    "    if (gen % 50 == 0):\n",
    "        print(f'Generation: {gen:4} | Fitness: {best_fit:.2f}' )\n",
    "    \n",
    "    # Select parents for reproduction using tournament selection\n",
    "    offspring = tb.select(population, len(population), tournsize=3)\n",
    "    offspring = list(map(tb.clone, offspring))\n",
    "    \n",
    "    # Apply crossover to pairs of offspring with a certain probability\n",
    "    for child1, child2 in zip(offspring[0::2], offspring[1::2]):\n",
    "        if np.random.random() < prob_crossover:\n",
    "            tb.mate(child1, child2)\n",
    "            del child1.fitness.values\n",
    "            del child2.fitness.values\n",
    "\n",
    "    # Apply mutation to offspring with a certain probability\n",
    "    for chromo in offspring:\n",
    "        if np.random.random() < prob_mutation:\n",
    "            tb.mutate(chromo)\n",
    "            del chromo.fitness.values\n",
    "            \n",
    "    # Check the feasibility of offspring solutions\n",
    "    for chromo in offspring:\n",
    "        tb.feasibility(chromo)\n",
    "\n",
    "    # Identify individuals that need evaluation (fitness is not valid)\n",
    "    invalid_ind = [ind for ind in offspring if not ind.fitness.valid]\n",
    "    \n",
    "    # Evaluate the fitness for the invalid individuals\n",
    "    fitness_set = map(tb.evaluate, invalid_ind)\n",
    "    \n",
    "    # Assign fitness values to the evaluated individuals\n",
    "    for ind, fit in zip(invalid_ind, fitness_set):\n",
    "        ind.fitness.values = fit\n",
    "    \n",
    "    # Replace the current population with the offspring population\n",
    "    population[:] = offspring\n",
    "    \n",
    "    # Select the current best solution (individual) and its fitness\n",
    "    curr_best_sol = tools.selBest(population, 1)[0]\n",
    "    curr_best_fit = curr_best_sol.fitness.values[0]\n",
    "    \n",
    "    # Update the best solution and best fitness if a better solution is found\n",
    "    if curr_best_fit < best_fit:\n",
    "        best_sol = curr_best_sol\n",
    "        best_fit = curr_best_fit\n",
    "\n",
    "    # Append the best fitness and best solution to their respective lists\n",
    "    best_fit_list.append(best_fit)\n",
    "    best_sol_list.append(best_sol)\n",
    "    \n",
    "# Stop measuring time\n",
    "stop = time.time()"
   ]
  },
  {
   "cell_type": "markdown",
   "id": "76d0a106",
   "metadata": {},
   "source": [
    "### Plot Fitness for Generation"
   ]
  },
  {
   "cell_type": "code",
   "execution_count": 141,
   "id": "48cccc05",
   "metadata": {},
   "outputs": [
    {
     "data": {
      "image/png": "[encoded data removed]",
      "text/plain": [
       "<Figure size 1600x800 with 1 Axes>"
      ]
     },
     "metadata": {},
     "output_type": "display_data"
    }
   ],
   "source": [
    "plt.plot(best_fit_list)\n",
    "plt.show()"
   ]
  },
  {
   "cell_type": "markdown",
   "id": "40db815f",
   "metadata": {},
   "source": [
    "## Solution"
   ]
  },
  {
   "cell_type": "code",
   "execution_count": 142,
   "id": "cadab106",
   "metadata": {},
   "outputs": [
    {
     "name": "stdout",
     "output_type": "stream",
     "text": [
      "[[8, 1, 15, 4, 19, 3], [11, 16, 17, 20], [2, 9, 18, 13, 6, 12, 14, 5, 10, 7], []]\n",
      "Best solution: [[8, 1, 15, 4, 19, 3], [11, 16, 17, 20], [2, 9, 18, 13, 6, 12, 14, 5, 10, 7], []]\n",
      "Execution time: 61.44 seconds\n"
     ]
    }
   ],
   "source": [
    "best_routes = get_route(best_sol)\n",
    "print(best_routes)\n",
    "\n",
    "print(f\"Best solution: {best_routes}\")\n",
    "print(f\"Execution time: {round((stop - start), 2)} seconds\")"
   ]
  },
  {
   "cell_type": "code",
   "execution_count": 143,
   "id": "3533dd17",
   "metadata": {
    "scrolled": false
   },
   "outputs": [
    {
     "name": "stderr",
     "output_type": "stream",
     "text": [
      "C:\\Users\\bianc\\AppData\\Local\\Temp\\ipykernel_15584\\3097753406.py:2: UserWarning: No data for colormapping provided via 'c'. Parameters 'cmap' will be ignored\n",
      "  plt.scatter(cities_coord[1:, 0], cities_coord[1:, 1], s=plot_size*2, cmap='viridis')  # Plot client cities\n",
      "C:\\Users\\bianc\\AppData\\Local\\Temp\\ipykernel_15584\\3097753406.py:3: UserWarning: No data for colormapping provided via 'c'. Parameters 'cmap' will be ignored\n",
      "  plt.scatter(cities_coord[0, 0], cities_coord[0, 1], s=plot_size*4, cmap='viridis')    # Plot depot city\n"
     ]
    },
    {
     "data": {
      "image/png": "[encoded data removed]",
      "text/plain": [
       "<Figure size 1600x800 with 1 Axes>"
      ]
     },
     "metadata": {},
     "output_type": "display_data"
    }
   ],
   "source": [
    "# Scatter plot of cities with different markers and labels\n",
    "plt.scatter(cities_coord[1:, 0], cities_coord[1:, 1], s=plot_size*2, cmap='viridis')  # Plot client cities\n",
    "plt.scatter(cities_coord[0, 0], cities_coord[0, 1], s=plot_size*4, cmap='viridis')    # Plot depot city\n",
    "for i, txt in enumerate(all_names):\n",
    "    plt.annotate(txt, (cities_coord[i, 0]+1, cities_coord[i, 1]+1))  # Annotate cities with labels\n",
    "\n",
    "# Plot the best routes\n",
    "for r in best_routes:\n",
    "    route = [0] + r + [0]  # Add the depot city to the beginning and end of the route\n",
    "    for p in range(len(route) - 1):\n",
    "        i = route[p]\n",
    "        j = route[p + 1]\n",
    "        colour = 'black'  # Define arrow color\n",
    "        \n",
    "        # Draw an arrow from city i to city j\n",
    "        plt.arrow(cities_coord[i][0],\n",
    "                  cities_coord[i][1],\n",
    "                  cities_coord[j][0] - cities_coord[i][0],\n",
    "                  cities_coord[j][1] - cities_coord[i][1],\n",
    "                  color=colour)\n",
    "\n",
    "# Display the plot\n",
    "plt.show()"
   ]
  }
 ],
 "metadata": {
  "kernelspec": {
   "display_name": "Python 3 (ipykernel)",
   "language": "python",
   "name": "python3"
  },
  "language_info": {
   "codemirror_mode": {
    "name": "ipython",
    "version": 3
   },
   "file_extension": ".py",
   "mimetype": "text/x-python",
   "name": "python",
   "nbconvert_exporter": "python",
   "pygments_lexer": "ipython3",
   "version": "3.10.9"
  }
 },
 "nbformat": 4,
 "nbformat_minor": 5
}
